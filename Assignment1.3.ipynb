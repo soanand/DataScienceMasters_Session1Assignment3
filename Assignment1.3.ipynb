{
 "cells": [
  {
   "cell_type": "markdown",
   "metadata": {},
   "source": [
    "# Assignment 1.3"
   ]
  },
  {
   "cell_type": "markdown",
   "metadata": {},
   "source": [
    "# Problem Statement\n",
    "\n",
    "Write a Python program to accept the user's first and last name and then getting them\n",
    "printed in the the reverse order with a space between first name and last name."
   ]
  },
  {
   "cell_type": "code",
   "execution_count": 1,
   "metadata": {},
   "outputs": [
    {
     "name": "stdout",
     "output_type": "stream",
     "text": [
      "input first name: SONU\n",
      "input last name: ANAND\n",
      "DNANA UNOS\n"
     ]
    }
   ],
   "source": [
    "#input first name\n",
    "first = input(\"input first name: \")\n",
    "#input second name\n",
    "last = input(\"input last name: \")\n",
    "\n",
    "#concatenate first and last to name\n",
    "name = first + ' ' + last\n",
    "\n",
    "#reverse name and store it to rev\n",
    "rev = name[::-1]\n",
    "\n",
    "#print the result\n",
    "print(rev)"
   ]
  }
 ],
 "metadata": {
  "kernelspec": {
   "display_name": "Python 3",
   "language": "python",
   "name": "python3"
  },
  "language_info": {
   "codemirror_mode": {
    "name": "ipython",
    "version": 3
   },
   "file_extension": ".py",
   "mimetype": "text/x-python",
   "name": "python",
   "nbconvert_exporter": "python",
   "pygments_lexer": "ipython3",
   "version": "3.6.4"
  }
 },
 "nbformat": 4,
 "nbformat_minor": 2
}
